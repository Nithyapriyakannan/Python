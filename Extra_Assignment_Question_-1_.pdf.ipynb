{
 "cells": [
  {
   "cell_type": "code",
   "execution_count": null,
   "id": "8a92e34e",
   "metadata": {},
   "outputs": [],
   "source": [
    "#print Statement"
   ]
  },
  {
   "cell_type": "code",
   "execution_count": 1,
   "id": "43767857",
   "metadata": {},
   "outputs": [
    {
     "name": "stdout",
     "output_type": "stream",
     "text": [
      "HOPE AI\n"
     ]
    }
   ],
   "source": [
    "print(\"HOPE AI\")"
   ]
  },
  {
   "cell_type": "code",
   "execution_count": null,
   "id": "dede020a",
   "metadata": {},
   "outputs": [],
   "source": [
    "#Buy input"
   ]
  },
  {
   "cell_type": "code",
   "execution_count": 2,
   "id": "2b977a89",
   "metadata": {},
   "outputs": [
    {
     "name": "stdout",
     "output_type": "stream",
     "text": [
      "Enter your institute name? :HOPE AI\n"
     ]
    }
   ],
   "source": [
    "Businessname =input(\"Enter your institute name? :\")"
   ]
  },
  {
   "cell_type": "code",
   "execution_count": null,
   "id": "a2f47c78",
   "metadata": {},
   "outputs": [],
   "source": [
    "#Buy inputs"
   ]
  },
  {
   "cell_type": "code",
   "execution_count": 3,
   "id": "de02db8e",
   "metadata": {},
   "outputs": [
    {
     "name": "stdout",
     "output_type": "stream",
     "text": [
      "Enter your name:Raj\n"
     ]
    }
   ],
   "source": [
    "Name=input(\"Enter your name:\")"
   ]
  },
  {
   "cell_type": "code",
   "execution_count": 4,
   "id": "5c36f2ca",
   "metadata": {},
   "outputs": [
    {
     "name": "stdout",
     "output_type": "stream",
     "text": [
      "Enter your age:15\n"
     ]
    }
   ],
   "source": [
    "Age=input(\"Enter your age:\")"
   ]
  },
  {
   "cell_type": "code",
   "execution_count": 5,
   "id": "3880d972",
   "metadata": {},
   "outputs": [
    {
     "name": "stdout",
     "output_type": "stream",
     "text": [
      "Enter your school name:Guru school\n"
     ]
    }
   ],
   "source": [
    "School=input(\"Enter your school name:\")"
   ]
  },
  {
   "cell_type": "code",
   "execution_count": 6,
   "id": "cc1b7294",
   "metadata": {},
   "outputs": [
    {
     "name": "stdout",
     "output_type": "stream",
     "text": [
      "Enter your drgree:B.E CSE\n"
     ]
    }
   ],
   "source": [
    "degree=input(\"Enter your drgree:\")"
   ]
  },
  {
   "cell_type": "code",
   "execution_count": null,
   "id": "81ddb489",
   "metadata": {},
   "outputs": [],
   "source": [
    ": #Addition"
   ]
  },
  {
   "cell_type": "code",
   "execution_count": 7,
   "id": "bb667385",
   "metadata": {},
   "outputs": [],
   "source": [
    "a= 43\n",
    "b= 34\n",
    "add = 77"
   ]
  },
  {
   "cell_type": "code",
   "execution_count": 4,
   "id": "46bf55d6",
   "metadata": {},
   "outputs": [
    {
     "name": "stdout",
     "output_type": "stream",
     "text": [
      "a= 43\n",
      "b= 34\n",
      "add= 77\n"
     ]
    }
   ],
   "source": [
    "print(\"a= 43\")\n",
    "a=43\n",
    "print(\"b= 34\")\n",
    "b=34\n",
    "add=a+b\n",
    "print(\"add=\",a+b)"
   ]
  },
  {
   "cell_type": "code",
   "execution_count": null,
   "id": "fb472df3",
   "metadata": {},
   "outputs": [],
   "source": [
    "#Subtraction"
   ]
  },
  {
   "cell_type": "code",
   "execution_count": null,
   "id": "e4fcc896",
   "metadata": {},
   "outputs": [],
   "source": [
    "a= 43\n",
    "b= 34\n",
    "Sub = 9"
   ]
  },
  {
   "cell_type": "code",
   "execution_count": 7,
   "id": "6b46f03a",
   "metadata": {},
   "outputs": [
    {
     "name": "stdout",
     "output_type": "stream",
     "text": [
      "a=43\n",
      "b=34\n",
      "sub= 9\n"
     ]
    }
   ],
   "source": [
    "print(\"a=43\")\n",
    "a=43\n",
    "b=34\n",
    "print(\"b=34\")\n",
    "print(\"sub=\",a-b)"
   ]
  },
  {
   "cell_type": "code",
   "execution_count": null,
   "id": "53eab2c5",
   "metadata": {},
   "outputs": [],
   "source": [
    "#multiplication"
   ]
  },
  {
   "cell_type": "code",
   "execution_count": null,
   "id": "ff304f43",
   "metadata": {},
   "outputs": [],
   "source": [
    "a= 63\n",
    "b= 97\n",
    "Mul = 6111"
   ]
  },
  {
   "cell_type": "code",
   "execution_count": 8,
   "id": "410ed9d9",
   "metadata": {},
   "outputs": [
    {
     "name": "stdout",
     "output_type": "stream",
     "text": [
      "a=63\n",
      "b=97\n",
      "Mul = 6111\n"
     ]
    }
   ],
   "source": [
    "a=63\n",
    "print(\"a=63\")\n",
    "b=97\n",
    "print(\"b=97\")\n",
    "print(\"Mul =\",a*b )"
   ]
  },
  {
   "cell_type": "code",
   "execution_count": null,
   "id": "4f97fa39",
   "metadata": {},
   "outputs": [],
   "source": [
    "#division\n",
    "a= 76\n",
    "b= 31\n",
    "Float Div = 2.4516129032258065"
   ]
  },
  {
   "cell_type": "code",
   "execution_count": 15,
   "id": "114a824b",
   "metadata": {},
   "outputs": [
    {
     "name": "stdout",
     "output_type": "stream",
     "text": [
      "a= 76\n",
      "b= 31\n",
      "Float Div= 2.4516129032258065\n"
     ]
    }
   ],
   "source": [
    "a= 76\n",
    "print(\"a= 76\")\n",
    "b= 31 \n",
    "print(\"b= 31\")\n",
    "print(\"Float Div=\",a/b)"
   ]
  },
  {
   "cell_type": "code",
   "execution_count": null,
   "id": "ce40646c",
   "metadata": {},
   "outputs": [],
   "source": [
    "#Floor division\n",
    "a= 76\n",
    "b= 31\n",
    "Floor Div = 2"
   ]
  },
  {
   "cell_type": "code",
   "execution_count": 17,
   "id": "d46327ea",
   "metadata": {},
   "outputs": [
    {
     "name": "stdout",
     "output_type": "stream",
     "text": [
      "a= 76\n",
      "b= 31\n",
      "Floor Div= 2\n"
     ]
    }
   ],
   "source": [
    "a=76\n",
    "print(\"a= 76\")\n",
    "b=31\n",
    "print(\"b= 31\")\n",
    "print(\"Floor Div=\",a//b)"
   ]
  },
  {
   "cell_type": "code",
   "execution_count": null,
   "id": "ab6ad2e0",
   "metadata": {},
   "outputs": [],
   "source": [
    "#Modulo\n",
    "a= 76\n",
    "b= 31\n",
    "Modulo = 14"
   ]
  },
  {
   "cell_type": "code",
   "execution_count": 18,
   "id": "a0b41dd0",
   "metadata": {},
   "outputs": [
    {
     "name": "stdout",
     "output_type": "stream",
     "text": [
      "a= 76\n",
      "b= 31\n",
      "Modulo =  14\n"
     ]
    }
   ],
   "source": [
    "a= 76\n",
    "print(\"a= 76\")\n",
    "b= 31\n",
    "print(\"b= 31\")\n",
    "print(\"Modulo = \",76%31)"
   ]
  },
  {
   "cell_type": "code",
   "execution_count": null,
   "id": "5bfb840e",
   "metadata": {},
   "outputs": [],
   "source": [
    "#Power\n",
    "a= 4\n",
    "b= 4\n",
    "Power = 256"
   ]
  },
  {
   "cell_type": "code",
   "execution_count": 22,
   "id": "b31991b9",
   "metadata": {},
   "outputs": [
    {
     "name": "stdout",
     "output_type": "stream",
     "text": [
      "a= 4\n",
      "b= 4\n",
      "Power =  256\n"
     ]
    }
   ],
   "source": [
    "a= 4\n",
    "print(\"a= 4\")\n",
    "b= 4\n",
    "print(\"b= 4\")\n",
    "print(\"Power = \",a**b)"
   ]
  }
 ],
 "metadata": {
  "kernelspec": {
   "display_name": "Python 3 (ipykernel)",
   "language": "python",
   "name": "python3"
  },
  "language_info": {
   "codemirror_mode": {
    "name": "ipython",
    "version": 3
   },
   "file_extension": ".py",
   "mimetype": "text/x-python",
   "name": "python",
   "nbconvert_exporter": "python",
   "pygments_lexer": "ipython3",
   "version": "3.11.5"
  }
 },
 "nbformat": 4,
 "nbformat_minor": 5
}
